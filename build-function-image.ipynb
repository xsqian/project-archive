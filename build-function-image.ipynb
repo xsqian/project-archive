{
 "cells": [
  {
   "cell_type": "code",
   "execution_count": 1,
   "id": "09f30037-5535-40e5-9bd9-1d0b71d7a7bc",
   "metadata": {},
   "outputs": [
    {
     "name": "stdout",
     "output_type": "stream",
     "text": [
      "1.4.1\n"
     ]
    }
   ],
   "source": [
    "import mlrun\n",
    "print(mlrun.__version__)"
   ]
  },
  {
   "cell_type": "code",
   "execution_count": 2,
   "id": "79c28c19-e101-4ff7-b442-e3af03f9c495",
   "metadata": {},
   "outputs": [
    {
     "name": "stdout",
     "output_type": "stream",
     "text": [
      "> 2023-11-07 15:22:14,357 [info] Project loaded successfully: {'project_name': 'vistra-3393'}\n"
     ]
    }
   ],
   "source": [
    "project = mlrun.get_or_create_project(name=\"vistra-3393\")"
   ]
  },
  {
   "cell_type": "code",
   "execution_count": 3,
   "id": "0f15504e-8155-476b-9d72-bb4f0dfd2aad",
   "metadata": {},
   "outputs": [
    {
     "name": "stdout",
     "output_type": "stream",
     "text": [
      "> 2023-11-07 15:22:15,857 [info] Started building image: .mlrun-project-image-vistra-3393\n"
     ]
    },
    {
     "name": "stderr",
     "output_type": "stream",
     "text": [
      "Passing a requirements file path as a string in the 'requirements' argument is deprecated and will be removed in 1.6.0, use 'requirements_file' instead\n"
     ]
    },
    {
     "name": "stdout",
     "output_type": "stream",
     "text": [
      "\u001b[36mINFO\u001b[0m[0000] Retrieving image manifest mlrun/mlrun:1.4.1  \n",
      "\u001b[36mINFO\u001b[0m[0000] Retrieving image mlrun/mlrun:1.4.1 from registry index.docker.io \n",
      "\u001b[36mINFO\u001b[0m[0000] Built cross stage deps: map[]                \n",
      "\u001b[36mINFO\u001b[0m[0000] Retrieving image manifest mlrun/mlrun:1.4.1  \n",
      "\u001b[36mINFO\u001b[0m[0000] Returning cached image manifest              \n",
      "\u001b[36mINFO\u001b[0m[0000] Executing 0 build triggers                   \n",
      "\u001b[36mINFO\u001b[0m[0000] Building stage 'mlrun/mlrun:1.4.1' [idx: '0', base-idx: '-1'] \n",
      "\u001b[36mINFO\u001b[0m[0000] Unpacking rootfs as cmd RUN echo 'Installing /empty/requirements.txt...'; cat /empty/requirements.txt requires it. \n",
      "\u001b[36mINFO\u001b[0m[0024] RUN echo 'Installing /empty/requirements.txt...'; cat /empty/requirements.txt \n",
      "\u001b[36mINFO\u001b[0m[0024] Initializing snapshotter ...                 \n",
      "\u001b[36mINFO\u001b[0m[0024] Taking snapshot of full filesystem...        \n",
      "\u001b[36mINFO\u001b[0m[0046] Cmd: /bin/sh                                 \n",
      "\u001b[36mINFO\u001b[0m[0046] Args: [-c echo 'Installing /empty/requirements.txt...'; cat /empty/requirements.txt] \n",
      "\u001b[36mINFO\u001b[0m[0046] Running: [/bin/sh -c echo 'Installing /empty/requirements.txt...'; cat /empty/requirements.txt] \n",
      "Installing /empty/requirements.txt...\n",
      "\u001b[36mINFO\u001b[0m[0046] Taking snapshot of full filesystem...        \n",
      "\u001b[36mINFO\u001b[0m[0047] No files were changed, appending empty layer to config. No layer added to image. \n",
      "\u001b[36mINFO\u001b[0m[0047] RUN python -m pip install -r /empty/requirements.txt \n",
      "\u001b[36mINFO\u001b[0m[0047] Cmd: /bin/sh                                 \n",
      "\u001b[36mINFO\u001b[0m[0047] Args: [-c python -m pip install -r /empty/requirements.txt] \n",
      "\u001b[36mINFO\u001b[0m[0047] Running: [/bin/sh -c python -m pip install -r /empty/requirements.txt] \n",
      "pandasRequirement already satisfied: pandas in /usr/local/lib/python3.9/site-packages (from -r /empty/requirements.txt (line 1)) (1.4.4)\n",
      "Requirement already satisfied: python-dateutil>=2.8.1 in /usr/local/lib/python3.9/site-packages (from pandas->-r /empty/requirements.txt (line 1)) (2.8.2)\n",
      "Requirement already satisfied: pytz>=2020.1 in /usr/local/lib/python3.9/site-packages (from pandas->-r /empty/requirements.txt (line 1)) (2023.3)\n",
      "Requirement already satisfied: numpy>=1.18.5 in /usr/local/lib/python3.9/site-packages (from pandas->-r /empty/requirements.txt (line 1)) (1.22.4)\n",
      "Requirement already satisfied: six>=1.5 in /usr/local/lib/python3.9/site-packages (from python-dateutil>=2.8.1->pandas->-r /empty/requirements.txt (line 1)) (1.16.0)\n",
      "WARNING: Running pip as the 'root' user can result in broken permissions and conflicting behaviour with the system package manager. It is recommended to use a virtual environment instead: https://pip.pypa.io/warnings/venv\n",
      "\n",
      "[notice] A new release of pip available: 22.3.1 -> 23.3.1\n",
      "[notice] To update, run: pip install --upgrade pip\n",
      "\u001b[36mINFO\u001b[0m[0050] Taking snapshot of full filesystem...        \n",
      "\u001b[36mINFO\u001b[0m[0051] Pushing image to 669994010164.dkr.ecr.us-east-1.amazonaws.com/mlrun-project-image-vistra-3393 \n",
      "\u001b[36mINFO\u001b[0m[0053] Pushed 669994010164.dkr.ecr.us-east-1.amazonaws.com/mlrun-project-image-vistra-3393@sha256:d09d92d09c277d50d64c4658d697b00546f1e27f923748df4b14b1c81be57bdf \n",
      "\n"
     ]
    },
    {
     "data": {
      "text/plain": [
       "BuildStatus(ready=True, outputs={'image': '.mlrun-project-image-vistra-3393'})"
      ]
     },
     "execution_count": 3,
     "metadata": {},
     "output_type": "execute_result"
    }
   ],
   "source": [
    "project.build_image(\n",
    "    set_as_default=True,\n",
    "    with_mlrun=True,\n",
    "    skip_deployed=False,\n",
    "    base_image='mlrun/mlrun:1.4.1',\n",
    "    requirements='requirements.txt',\n",
    ")"
   ]
  },
  {
   "cell_type": "code",
   "execution_count": 9,
   "id": "84f43820-a256-4d43-ab40-440204e97bcf",
   "metadata": {},
   "outputs": [],
   "source": [
    "project.set_default_image(\"669994010164.dkr.ecr.us-east-1.amazonaws.com/mlrun-project-image-vistra-3393\")"
   ]
  },
  {
   "cell_type": "code",
   "execution_count": 10,
   "id": "dd5e557a-dabf-4edc-aa13-6869ecc61aa2",
   "metadata": {},
   "outputs": [],
   "source": [
    "git_source = \"git://github.com/xsqian/project-archive.git#main\"\n",
    "project.set_source(\n",
    "    source=git_source,\n",
    "    pull_at_runtime=False\n",
    ")"
   ]
  },
  {
   "cell_type": "code",
   "execution_count": 11,
   "id": "3b5f50fd-bd81-4e5e-9174-778fea927dc3",
   "metadata": {},
   "outputs": [
    {
     "data": {
      "text/plain": [
       "<mlrun.projects.project.MlrunProject at 0x7f64dc2c59a0>"
      ]
     },
     "execution_count": 11,
     "metadata": {},
     "output_type": "execute_result"
    }
   ],
   "source": [
    "project.save()"
   ]
  },
  {
   "cell_type": "code",
   "execution_count": 12,
   "id": "bba3ab9b-a134-4f22-ae84-86865d397919",
   "metadata": {},
   "outputs": [],
   "source": [
    "fn = project.set_function(name='bench-main-inference',func=\"./src/job_func.py\", \n",
    "                          kind='job',\n",
    "                          handler='src.job_func.job_handler', \n",
    "                          with_repo=True, \n",
    "                          )"
   ]
  },
  {
   "cell_type": "code",
   "execution_count": 13,
   "id": "4f83da74-b2c2-4972-b8d9-060d06db12cf",
   "metadata": {},
   "outputs": [
    {
     "name": "stdout",
     "output_type": "stream",
     "text": [
      "> 2023-11-07 15:36:11,005 [info] Started building image: .mlrun/mlrunfunc-vistra-3393-bench-main-inference:latest\n",
      "Enumerating objects: 68, done.\n",
      "Counting objects: 100% (68/68), done.\n",
      "Compressing objects: 100% (46/46), done.\n",
      "Total 68 (delta 34), reused 50 (delta 21), pack-reused 0\n",
      "\u001b[36mINFO\u001b[0m[0000] Retrieving image manifest 669994010164.dkr.ecr.us-east-1.amazonaws.com/mlrun-project-image-vistra-3393 \n",
      "\u001b[36mINFO\u001b[0m[0000] Retrieving image 669994010164.dkr.ecr.us-east-1.amazonaws.com/mlrun-project-image-vistra-3393 from registry 669994010164.dkr.ecr.us-east-1.amazonaws.com \n",
      "\u001b[36mINFO\u001b[0m[0000] Built cross stage deps: map[]                \n",
      "\u001b[36mINFO\u001b[0m[0000] Retrieving image manifest 669994010164.dkr.ecr.us-east-1.amazonaws.com/mlrun-project-image-vistra-3393 \n",
      "\u001b[36mINFO\u001b[0m[0000] Returning cached image manifest              \n",
      "\u001b[36mINFO\u001b[0m[0000] Executing 0 build triggers                   \n",
      "\u001b[36mINFO\u001b[0m[0000] Building stage '669994010164.dkr.ecr.us-east-1.amazonaws.com/mlrun-project-image-vistra-3393' [idx: '0', base-idx: '-1'] \n",
      "\u001b[36mINFO\u001b[0m[0000] Unpacking rootfs as cmd ADD . /tmp/tmp1mkwqs8a/mlrun/ requires it. \n",
      "\u001b[36mINFO\u001b[0m[0025] WORKDIR /tmp/tmp1mkwqs8a/mlrun/              \n",
      "\u001b[36mINFO\u001b[0m[0025] Cmd: workdir                                 \n",
      "\u001b[36mINFO\u001b[0m[0025] Changed working directory to /tmp/tmp1mkwqs8a/mlrun/ \n",
      "\u001b[36mINFO\u001b[0m[0025] Creating directory /tmp/tmp1mkwqs8a/mlrun/   \n",
      "error building image: error building stage: failed to execute command: mkdir /tmp/tmp1mkwqs8a: read-only file system\n",
      "\n"
     ]
    },
    {
     "ename": "MLRunRuntimeError",
     "evalue": "Deploy failed",
     "output_type": "error",
     "traceback": [
      "\u001b[0;31m---------------------------------------------------------------------------\u001b[0m",
      "\u001b[0;31mMLRunRuntimeError\u001b[0m                         Traceback (most recent call last)",
      "Cell \u001b[0;32mIn[13], line 1\u001b[0m\n\u001b[0;32m----> 1\u001b[0m \u001b[43mproject\u001b[49m\u001b[38;5;241;43m.\u001b[39;49m\u001b[43mbuild_function\u001b[49m\u001b[43m(\u001b[49m\u001b[38;5;124;43m'\u001b[39;49m\u001b[38;5;124;43mbench-main-inference\u001b[39;49m\u001b[38;5;124;43m'\u001b[39;49m\u001b[43m)\u001b[49m\n",
      "File \u001b[0;32m/conda/envs/mlrun-base/lib/python3.9/site-packages/mlrun/projects/project.py:2655\u001b[0m, in \u001b[0;36mMlrunProject.build_function\u001b[0;34m(self, function, with_mlrun, skip_deployed, image, base_image, commands, secret_name, requirements, mlrun_version_specifier, builder_env, overwrite_build_params, requirements_file)\u001b[0m\n\u001b[1;32m   2623\u001b[0m \u001b[38;5;28;01mdef\u001b[39;00m \u001b[38;5;21mbuild_function\u001b[39m(\n\u001b[1;32m   2624\u001b[0m     \u001b[38;5;28mself\u001b[39m,\n\u001b[1;32m   2625\u001b[0m     function: typing\u001b[38;5;241m.\u001b[39mUnion[\u001b[38;5;28mstr\u001b[39m, mlrun\u001b[38;5;241m.\u001b[39mruntimes\u001b[38;5;241m.\u001b[39mBaseRuntime],\n\u001b[0;32m   (...)\u001b[0m\n\u001b[1;32m   2636\u001b[0m     requirements_file: \u001b[38;5;28mstr\u001b[39m \u001b[38;5;241m=\u001b[39m \u001b[38;5;28;01mNone\u001b[39;00m,\n\u001b[1;32m   2637\u001b[0m ) \u001b[38;5;241m-\u001b[39m\u001b[38;5;241m>\u001b[39m typing\u001b[38;5;241m.\u001b[39mUnion[BuildStatus, kfp\u001b[38;5;241m.\u001b[39mdsl\u001b[38;5;241m.\u001b[39mContainerOp]:\n\u001b[1;32m   2638\u001b[0m \u001b[38;5;250m    \u001b[39m\u001b[38;5;124;03m\"\"\"deploy ML function, build container with its dependencies\u001b[39;00m\n\u001b[1;32m   2639\u001b[0m \n\u001b[1;32m   2640\u001b[0m \u001b[38;5;124;03m    :param function:            name of the function (in the project) or function object\u001b[39;00m\n\u001b[0;32m   (...)\u001b[0m\n\u001b[1;32m   2653\u001b[0m \u001b[38;5;124;03m     add to existing parameters\u001b[39;00m\n\u001b[1;32m   2654\u001b[0m \u001b[38;5;124;03m    \"\"\"\u001b[39;00m\n\u001b[0;32m-> 2655\u001b[0m     \u001b[38;5;28;01mreturn\u001b[39;00m \u001b[43mbuild_function\u001b[49m\u001b[43m(\u001b[49m\n\u001b[1;32m   2656\u001b[0m \u001b[43m        \u001b[49m\u001b[43mfunction\u001b[49m\u001b[43m,\u001b[49m\n\u001b[1;32m   2657\u001b[0m \u001b[43m        \u001b[49m\u001b[43mwith_mlrun\u001b[49m\u001b[38;5;241;43m=\u001b[39;49m\u001b[43mwith_mlrun\u001b[49m\u001b[43m,\u001b[49m\n\u001b[1;32m   2658\u001b[0m \u001b[43m        \u001b[49m\u001b[43mskip_deployed\u001b[49m\u001b[38;5;241;43m=\u001b[39;49m\u001b[43mskip_deployed\u001b[49m\u001b[43m,\u001b[49m\n\u001b[1;32m   2659\u001b[0m \u001b[43m        \u001b[49m\u001b[43mimage\u001b[49m\u001b[38;5;241;43m=\u001b[39;49m\u001b[43mimage\u001b[49m\u001b[43m,\u001b[49m\n\u001b[1;32m   2660\u001b[0m \u001b[43m        \u001b[49m\u001b[43mbase_image\u001b[49m\u001b[38;5;241;43m=\u001b[39;49m\u001b[43mbase_image\u001b[49m\u001b[43m,\u001b[49m\n\u001b[1;32m   2661\u001b[0m \u001b[43m        \u001b[49m\u001b[43mcommands\u001b[49m\u001b[38;5;241;43m=\u001b[39;49m\u001b[43mcommands\u001b[49m\u001b[43m,\u001b[49m\n\u001b[1;32m   2662\u001b[0m \u001b[43m        \u001b[49m\u001b[43msecret_name\u001b[49m\u001b[38;5;241;43m=\u001b[39;49m\u001b[43msecret_name\u001b[49m\u001b[43m,\u001b[49m\n\u001b[1;32m   2663\u001b[0m \u001b[43m        \u001b[49m\u001b[43mrequirements\u001b[49m\u001b[38;5;241;43m=\u001b[39;49m\u001b[43mrequirements\u001b[49m\u001b[43m,\u001b[49m\n\u001b[1;32m   2664\u001b[0m \u001b[43m        \u001b[49m\u001b[43mrequirements_file\u001b[49m\u001b[38;5;241;43m=\u001b[39;49m\u001b[43mrequirements_file\u001b[49m\u001b[43m,\u001b[49m\n\u001b[1;32m   2665\u001b[0m \u001b[43m        \u001b[49m\u001b[43mmlrun_version_specifier\u001b[49m\u001b[38;5;241;43m=\u001b[39;49m\u001b[43mmlrun_version_specifier\u001b[49m\u001b[43m,\u001b[49m\n\u001b[1;32m   2666\u001b[0m \u001b[43m        \u001b[49m\u001b[43mbuilder_env\u001b[49m\u001b[38;5;241;43m=\u001b[39;49m\u001b[43mbuilder_env\u001b[49m\u001b[43m,\u001b[49m\n\u001b[1;32m   2667\u001b[0m \u001b[43m        \u001b[49m\u001b[43mproject_object\u001b[49m\u001b[38;5;241;43m=\u001b[39;49m\u001b[38;5;28;43mself\u001b[39;49m\u001b[43m,\u001b[49m\n\u001b[1;32m   2668\u001b[0m \u001b[43m        \u001b[49m\u001b[43moverwrite_build_params\u001b[49m\u001b[38;5;241;43m=\u001b[39;49m\u001b[43moverwrite_build_params\u001b[49m\u001b[43m,\u001b[49m\n\u001b[1;32m   2669\u001b[0m \u001b[43m    \u001b[49m\u001b[43m)\u001b[49m\n",
      "File \u001b[0;32m/conda/envs/mlrun-base/lib/python3.9/site-packages/mlrun/projects/operations.py:294\u001b[0m, in \u001b[0;36mbuild_function\u001b[0;34m(function, with_mlrun, skip_deployed, image, base_image, commands, secret_name, requirements, requirements_file, mlrun_version_specifier, builder_env, project_object, overwrite_build_params)\u001b[0m\n\u001b[1;32m    285\u001b[0m \u001b[38;5;28;01melse\u001b[39;00m:\n\u001b[1;32m    286\u001b[0m     function\u001b[38;5;241m.\u001b[39mbuild_config(\n\u001b[1;32m    287\u001b[0m         image\u001b[38;5;241m=\u001b[39mimage,\n\u001b[1;32m    288\u001b[0m         base_image\u001b[38;5;241m=\u001b[39mbase_image,\n\u001b[0;32m   (...)\u001b[0m\n\u001b[1;32m    292\u001b[0m         overwrite\u001b[38;5;241m=\u001b[39moverwrite_build_params,\n\u001b[1;32m    293\u001b[0m     )\n\u001b[0;32m--> 294\u001b[0m     ready \u001b[38;5;241m=\u001b[39m \u001b[43mfunction\u001b[49m\u001b[38;5;241;43m.\u001b[39;49m\u001b[43mdeploy\u001b[49m\u001b[43m(\u001b[49m\n\u001b[1;32m    295\u001b[0m \u001b[43m        \u001b[49m\u001b[43mwatch\u001b[49m\u001b[38;5;241;43m=\u001b[39;49m\u001b[38;5;28;43;01mTrue\u001b[39;49;00m\u001b[43m,\u001b[49m\n\u001b[1;32m    296\u001b[0m \u001b[43m        \u001b[49m\u001b[43mwith_mlrun\u001b[49m\u001b[38;5;241;43m=\u001b[39;49m\u001b[43mwith_mlrun\u001b[49m\u001b[43m,\u001b[49m\n\u001b[1;32m    297\u001b[0m \u001b[43m        \u001b[49m\u001b[43mskip_deployed\u001b[49m\u001b[38;5;241;43m=\u001b[39;49m\u001b[43mskip_deployed\u001b[49m\u001b[43m,\u001b[49m\n\u001b[1;32m    298\u001b[0m \u001b[43m        \u001b[49m\u001b[43mmlrun_version_specifier\u001b[49m\u001b[38;5;241;43m=\u001b[39;49m\u001b[43mmlrun_version_specifier\u001b[49m\u001b[43m,\u001b[49m\n\u001b[1;32m    299\u001b[0m \u001b[43m        \u001b[49m\u001b[43mbuilder_env\u001b[49m\u001b[38;5;241;43m=\u001b[39;49m\u001b[43mbuilder_env\u001b[49m\u001b[43m,\u001b[49m\n\u001b[1;32m    300\u001b[0m \u001b[43m    \u001b[49m\u001b[43m)\u001b[49m\n\u001b[1;32m    301\u001b[0m     \u001b[38;5;66;03m# return object with the same outputs as the KFP op (allow using the same pipeline)\u001b[39;00m\n\u001b[1;32m    302\u001b[0m     \u001b[38;5;28;01mreturn\u001b[39;00m BuildStatus(ready, {\u001b[38;5;124m\"\u001b[39m\u001b[38;5;124mimage\u001b[39m\u001b[38;5;124m\"\u001b[39m: function\u001b[38;5;241m.\u001b[39mspec\u001b[38;5;241m.\u001b[39mimage}, function\u001b[38;5;241m=\u001b[39mfunction)\n",
      "File \u001b[0;32m/conda/envs/mlrun-base/lib/python3.9/site-packages/mlrun/runtimes/kubejob.py:252\u001b[0m, in \u001b[0;36mKubejobRuntime.deploy\u001b[0;34m(self, watch, with_mlrun, skip_deployed, is_kfp, mlrun_version_specifier, builder_env, show_on_failure)\u001b[0m\n\u001b[1;32m    249\u001b[0m         \u001b[38;5;28mself\u001b[39m\u001b[38;5;241m.\u001b[39mstatus\u001b[38;5;241m.\u001b[39mstate \u001b[38;5;241m=\u001b[39m state\n\u001b[1;32m    251\u001b[0m \u001b[38;5;28;01mif\u001b[39;00m watch \u001b[38;5;129;01mand\u001b[39;00m \u001b[38;5;129;01mnot\u001b[39;00m ready:\n\u001b[0;32m--> 252\u001b[0m     \u001b[38;5;28;01mraise\u001b[39;00m mlrun\u001b[38;5;241m.\u001b[39merrors\u001b[38;5;241m.\u001b[39mMLRunRuntimeError(\u001b[38;5;124m\"\u001b[39m\u001b[38;5;124mDeploy failed\u001b[39m\u001b[38;5;124m\"\u001b[39m)\n\u001b[1;32m    253\u001b[0m \u001b[38;5;28;01mreturn\u001b[39;00m ready\n",
      "\u001b[0;31mMLRunRuntimeError\u001b[0m: Deploy failed"
     ]
    }
   ],
   "source": [
    "project.build_function('bench-main-inference')"
   ]
  },
  {
   "cell_type": "code",
   "execution_count": null,
   "id": "76865236-31f5-4bbc-a647-f41eee02eecd",
   "metadata": {},
   "outputs": [],
   "source": []
  }
 ],
 "metadata": {
  "kernelspec": {
   "display_name": "mlrun-base",
   "language": "python",
   "name": "conda-env-mlrun-base-py"
  },
  "language_info": {
   "codemirror_mode": {
    "name": "ipython",
    "version": 3
   },
   "file_extension": ".py",
   "mimetype": "text/x-python",
   "name": "python",
   "nbconvert_exporter": "python",
   "pygments_lexer": "ipython3",
   "version": "3.9.18"
  }
 },
 "nbformat": 4,
 "nbformat_minor": 5
}
