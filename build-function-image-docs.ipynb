{
 "cells": [
  {
   "cell_type": "code",
   "execution_count": 1,
   "id": "09f30037-5535-40e5-9bd9-1d0b71d7a7bc",
   "metadata": {},
   "outputs": [
    {
     "name": "stdout",
     "output_type": "stream",
     "text": [
      "1.4.1\n"
     ]
    }
   ],
   "source": [
    "import mlrun\n",
    "print(mlrun.__version__)"
   ]
  },
  {
   "cell_type": "code",
   "execution_count": 4,
   "id": "79c28c19-e101-4ff7-b442-e3af03f9c495",
   "metadata": {},
   "outputs": [
    {
     "name": "stdout",
     "output_type": "stream",
     "text": [
      "> 2023-11-07 03:57:42,513 [info] Project loaded successfully: {'project_name': 'function-image-docs'}\n"
     ]
    }
   ],
   "source": [
    "project = mlrun.get_or_create_project(name=\"function-image-docs\")"
   ]
  },
  {
   "cell_type": "code",
   "execution_count": 9,
   "id": "8ad7625d-d252-42f1-b904-5589e0d695f7",
   "metadata": {},
   "outputs": [
    {
     "name": "stderr",
     "output_type": "stream",
     "text": [
      "Passing a requirements file path as a string in the 'requirements' argument is deprecated and will be removed in 1.6.0, use 'requirements_file' instead\n"
     ]
    },
    {
     "name": "stdout",
     "output_type": "stream",
     "text": [
      "> 2023-11-07 04:01:16,344 [info] Started building image: 669994010164.dkr.ecr.us-east-1.amazonaws.com/mlrun-project-image-function-image\n",
      "\u001b[36mINFO\u001b[0m[0000] Retrieving image manifest mlrun/mlrun:1.4.1  \n",
      "\u001b[36mINFO\u001b[0m[0000] Retrieving image mlrun/mlrun:1.4.1 from registry index.docker.io \n",
      "\u001b[36mINFO\u001b[0m[0000] Built cross stage deps: map[]                \n",
      "\u001b[36mINFO\u001b[0m[0000] Retrieving image manifest mlrun/mlrun:1.4.1  \n",
      "\u001b[36mINFO\u001b[0m[0000] Returning cached image manifest              \n",
      "\u001b[36mINFO\u001b[0m[0000] Executing 0 build triggers                   \n",
      "\u001b[36mINFO\u001b[0m[0000] Building stage 'mlrun/mlrun:1.4.1' [idx: '0', base-idx: '-1'] \n",
      "\u001b[36mINFO\u001b[0m[0000] Unpacking rootfs as cmd RUN echo 'Installing /empty/requirements.txt...'; cat /empty/requirements.txt requires it. \n",
      "\u001b[36mINFO\u001b[0m[0020] RUN echo 'Installing /empty/requirements.txt...'; cat /empty/requirements.txt \n",
      "\u001b[36mINFO\u001b[0m[0020] Initializing snapshotter ...                 \n",
      "\u001b[36mINFO\u001b[0m[0020] Taking snapshot of full filesystem...        \n",
      "\u001b[36mINFO\u001b[0m[0042] Cmd: /bin/sh                                 \n",
      "\u001b[36mINFO\u001b[0m[0042] Args: [-c echo 'Installing /empty/requirements.txt...'; cat /empty/requirements.txt] \n",
      "\u001b[36mINFO\u001b[0m[0042] Running: [/bin/sh -c echo 'Installing /empty/requirements.txt...'; cat /empty/requirements.txt] \n",
      "Installing /empty/requirements.txt...\n",
      "\u001b[36mINFO\u001b[0m[0042] Taking snapshot of full filesystem...        \n",
      "\u001b[36mINFO\u001b[0m[0044] No files were changed, appending empty layer to config. No layer added to image. \n",
      "\u001b[36mINFO\u001b[0m[0044] RUN python -m pip install -r /empty/requirements.txt \n",
      "\u001b[36mINFO\u001b[0m[0044] Cmd: /bin/sh                                 \n",
      "\u001b[36mINFO\u001b[0m[0044] Args: [-c python -m pip install -r /empty/requirements.txt] \n",
      "\u001b[36mINFO\u001b[0m[0044] Running: [/bin/sh -c python -m pip install -r /empty/requirements.txt] \n",
      "pandasRequirement already satisfied: pandas in /usr/local/lib/python3.9/site-packages (from -r /empty/requirements.txt (line 1)) (1.4.4)\n",
      "Requirement already satisfied: numpy>=1.18.5 in /usr/local/lib/python3.9/site-packages (from pandas->-r /empty/requirements.txt (line 1)) (1.22.4)\n",
      "Requirement already satisfied: python-dateutil>=2.8.1 in /usr/local/lib/python3.9/site-packages (from pandas->-r /empty/requirements.txt (line 1)) (2.8.2)\n",
      "Requirement already satisfied: pytz>=2020.1 in /usr/local/lib/python3.9/site-packages (from pandas->-r /empty/requirements.txt (line 1)) (2023.3)\n",
      "Requirement already satisfied: six>=1.5 in /usr/local/lib/python3.9/site-packages (from python-dateutil>=2.8.1->pandas->-r /empty/requirements.txt (line 1)) (1.16.0)\n",
      "WARNING: Running pip as the 'root' user can result in broken permissions and conflicting behaviour with the system package manager. It is recommended to use a virtual environment instead: https://pip.pypa.io/warnings/venv\n",
      "\n",
      "[notice] A new release of pip available: 22.3.1 -> 23.3.1\n",
      "[notice] To update, run: pip install --upgrade pip\n",
      "\u001b[36mINFO\u001b[0m[0047] Taking snapshot of full filesystem...        \n",
      "\u001b[36mINFO\u001b[0m[0048] Pushing image to 669994010164.dkr.ecr.us-east-1.amazonaws.com/mlrun-project-image-function-image \n",
      "\u001b[36mINFO\u001b[0m[0049] Pushed 669994010164.dkr.ecr.us-east-1.amazonaws.com/mlrun-project-image-function-image@sha256:b5650ef8f9ee3eada6a83d3508c7489c22d8c3f64c61afd543272b3948d44932 \n",
      "\n"
     ]
    },
    {
     "data": {
      "text/plain": [
       "BuildStatus(ready=True, outputs={'image': '669994010164.dkr.ecr.us-east-1.amazonaws.com/mlrun-project-image-function-image'})"
      ]
     },
     "execution_count": 9,
     "metadata": {},
     "output_type": "execute_result"
    }
   ],
   "source": [
    " # Set image config for current project object, using base mlrun image with additional requirements. \n",
    " project.build_image(\n",
    "     set_as_default=True,\n",
    "     with_mlrun=True,\n",
    "     skip_deployed=False,\n",
    "     base_image=\"mlrun/mlrun\",\n",
    "     requirements=\"requirements.txt\",\n",
    " )"
   ]
  },
  {
   "cell_type": "code",
   "execution_count": 12,
   "id": "1e79b718-19dd-4962-8915-58faf5c1f8d1",
   "metadata": {},
   "outputs": [],
   "source": [
    "git_source = \"git://github.com/xsqian/project-archive.git#main\"\n",
    "project.set_source(\n",
    "    source=git_source,\n",
    "    pull_at_runtime=False\n",
    ")"
   ]
  },
  {
   "cell_type": "code",
   "execution_count": 21,
   "id": "b0c35d72-3ae1-41a9-bd34-14a795d75f87",
   "metadata": {},
   "outputs": [
    {
     "data": {
      "text/plain": [
       "<mlrun.projects.project.MlrunProject at 0x7f2d964d1f10>"
      ]
     },
     "execution_count": 21,
     "metadata": {},
     "output_type": "execute_result"
    }
   ],
   "source": [
    "project.set_function(name=\"scores\", \n",
    "                     func=\"sentiment.py\",  \n",
    "                     kind=\"job\", \n",
    "                     handler=\"handler\",\n",
    "                    )\n",
    "project.save()"
   ]
  },
  {
   "cell_type": "code",
   "execution_count": 22,
   "id": "50f5014b-b2ba-4397-b77a-6cbe2635f74c",
   "metadata": {},
   "outputs": [
    {
     "data": {
      "text/plain": [
       "BuildStatus(ready=True, outputs={'image': '669994010164.dkr.ecr.us-east-1.amazonaws.com/mlrun-project-image-function-image'})"
      ]
     },
     "execution_count": 22,
     "metadata": {},
     "output_type": "execute_result"
    }
   ],
   "source": [
    "project.build_function(\"scores\")"
   ]
  },
  {
   "cell_type": "code",
   "execution_count": 20,
   "id": "f193d586-af16-4b6d-ba07-c19163fe7373",
   "metadata": {},
   "outputs": [
    {
     "name": "stdout",
     "output_type": "stream",
     "text": [
      "> 2023-11-07 04:07:10,018 [info] Storing function: {'name': 'scores-handler', 'uid': 'c2097767ce864d91b5bddd114f024046', 'db': 'http://mlrun-api:8080'}\n",
      "> 2023-11-07 04:07:10,281 [info] Job is running in the background, pod: scores-handler-4njfk\n",
      "Hello\n",
      "> 2023-11-07 04:07:16,436 [info] Run execution finished: {'status': 'completed', 'name': 'scores-handler'}\n",
      "final state: completed\n"
     ]
    },
    {
     "data": {
      "text/html": [
       "<style>\n",
       ".dictlist {\n",
       "  background-color: #4EC64B;\n",
       "  text-align: center;\n",
       "  margin: 4px;\n",
       "  border-radius: 3px; padding: 0px 3px 1px 3px; display: inline-block;}\n",
       ".artifact {\n",
       "  cursor: pointer;\n",
       "  background-color: #4EC64B;\n",
       "  text-align: left;\n",
       "  margin: 4px; border-radius: 3px; padding: 0px 3px 1px 3px; display: inline-block;\n",
       "}\n",
       "div.block.hidden {\n",
       "  display: none;\n",
       "}\n",
       ".clickable {\n",
       "  cursor: pointer;\n",
       "}\n",
       ".ellipsis {\n",
       "  display: inline-block;\n",
       "  max-width: 60px;\n",
       "  white-space: nowrap;\n",
       "  overflow: hidden;\n",
       "  text-overflow: ellipsis;\n",
       "}\n",
       ".master-wrapper {\n",
       "  display: flex;\n",
       "  flex-flow: row nowrap;\n",
       "  justify-content: flex-start;\n",
       "  align-items: stretch;\n",
       "}\n",
       ".master-tbl {\n",
       "  flex: 3\n",
       "}\n",
       ".master-wrapper > div {\n",
       "  margin: 4px;\n",
       "  padding: 10px;\n",
       "}\n",
       "iframe.fileview {\n",
       "  border: 0 none;\n",
       "  height: 100%;\n",
       "  width: 100%;\n",
       "  white-space: pre-wrap;\n",
       "}\n",
       ".pane-header-title {\n",
       "  width: 80%;\n",
       "  font-weight: 500;\n",
       "}\n",
       ".pane-header {\n",
       "  line-height: 1;\n",
       "  background-color: #4EC64B;\n",
       "  padding: 3px;\n",
       "}\n",
       ".pane-header .close {\n",
       "  font-size: 20px;\n",
       "  font-weight: 700;\n",
       "  float: right;\n",
       "  margin-top: -5px;\n",
       "}\n",
       ".master-wrapper .right-pane {\n",
       "  border: 1px inset silver;\n",
       "  width: 40%;\n",
       "  min-height: 300px;\n",
       "  flex: 3\n",
       "  min-width: 500px;\n",
       "}\n",
       ".master-wrapper * {\n",
       "  box-sizing: border-box;\n",
       "}\n",
       "</style><script>\n",
       "function copyToClipboard(fld) {\n",
       "    if (document.queryCommandSupported && document.queryCommandSupported('copy')) {\n",
       "        var textarea = document.createElement('textarea');\n",
       "        textarea.textContent = fld.innerHTML;\n",
       "        textarea.style.position = 'fixed';\n",
       "        document.body.appendChild(textarea);\n",
       "        textarea.select();\n",
       "\n",
       "        try {\n",
       "            return document.execCommand('copy'); // Security exception may be thrown by some browsers.\n",
       "        } catch (ex) {\n",
       "\n",
       "        } finally {\n",
       "            document.body.removeChild(textarea);\n",
       "        }\n",
       "    }\n",
       "}\n",
       "function expandPanel(el) {\n",
       "  const panelName = \"#\" + el.getAttribute('paneName');\n",
       "  console.log(el.title);\n",
       "\n",
       "  document.querySelector(panelName + \"-title\").innerHTML = el.title\n",
       "  iframe = document.querySelector(panelName + \"-body\");\n",
       "\n",
       "  const tblcss = `<style> body { font-family: Arial, Helvetica, sans-serif;}\n",
       "    #csv { margin-bottom: 15px; }\n",
       "    #csv table { border-collapse: collapse;}\n",
       "    #csv table td { padding: 4px 8px; border: 1px solid silver;} </style>`;\n",
       "\n",
       "  function csvToHtmlTable(str) {\n",
       "    return '<div id=\"csv\"><table><tr><td>' +  str.replace(/[\\n\\r]+$/g, '').replace(/[\\n\\r]+/g, '</td></tr><tr><td>')\n",
       "      .replace(/,/g, '</td><td>') + '</td></tr></table></div>';\n",
       "  }\n",
       "\n",
       "  function reqListener () {\n",
       "    if (el.title.endsWith(\".csv\")) {\n",
       "      iframe.setAttribute(\"srcdoc\", tblcss + csvToHtmlTable(this.responseText));\n",
       "    } else {\n",
       "      iframe.setAttribute(\"srcdoc\", this.responseText);\n",
       "    }\n",
       "    console.log(this.responseText);\n",
       "  }\n",
       "\n",
       "  const oReq = new XMLHttpRequest();\n",
       "  oReq.addEventListener(\"load\", reqListener);\n",
       "  oReq.open(\"GET\", el.title);\n",
       "  oReq.send();\n",
       "\n",
       "\n",
       "  //iframe.src = el.title;\n",
       "  const resultPane = document.querySelector(panelName + \"-pane\");\n",
       "  if (resultPane.classList.contains(\"hidden\")) {\n",
       "    resultPane.classList.remove(\"hidden\");\n",
       "  }\n",
       "}\n",
       "function closePanel(el) {\n",
       "  const panelName = \"#\" + el.getAttribute('paneName')\n",
       "  const resultPane = document.querySelector(panelName + \"-pane\");\n",
       "  if (!resultPane.classList.contains(\"hidden\")) {\n",
       "    resultPane.classList.add(\"hidden\");\n",
       "  }\n",
       "}\n",
       "\n",
       "</script>\n",
       "<div class=\"master-wrapper\">\n",
       "  <div class=\"block master-tbl\"><div>\n",
       "<style scoped>\n",
       "    .dataframe tbody tr th:only-of-type {\n",
       "        vertical-align: middle;\n",
       "    }\n",
       "\n",
       "    .dataframe tbody tr th {\n",
       "        vertical-align: top;\n",
       "    }\n",
       "\n",
       "    .dataframe thead th {\n",
       "        text-align: right;\n",
       "    }\n",
       "</style>\n",
       "<table border=\"1\" class=\"dataframe\">\n",
       "  <thead>\n",
       "    <tr style=\"text-align: right;\">\n",
       "      <th>project</th>\n",
       "      <th>uid</th>\n",
       "      <th>iter</th>\n",
       "      <th>start</th>\n",
       "      <th>state</th>\n",
       "      <th>name</th>\n",
       "      <th>labels</th>\n",
       "      <th>inputs</th>\n",
       "      <th>parameters</th>\n",
       "      <th>results</th>\n",
       "      <th>artifacts</th>\n",
       "    </tr>\n",
       "  </thead>\n",
       "  <tbody>\n",
       "    <tr>\n",
       "      <td>function-image-docs</td>\n",
       "      <td><div title=\"c2097767ce864d91b5bddd114f024046\"><a href=\"https://dashboard.default-tenant.app.cst-354.iguazio-cd2.com/mlprojects/function-image-docs/jobs/monitor/c2097767ce864d91b5bddd114f024046/overview\" target=\"_blank\" >...4f024046</a></div></td>\n",
       "      <td>0</td>\n",
       "      <td>Nov 07 04:07:16</td>\n",
       "      <td>completed</td>\n",
       "      <td>scores-handler</td>\n",
       "      <td><div class=\"dictlist\">v3io_user=xingsheng</div><div class=\"dictlist\">kind=job</div><div class=\"dictlist\">owner=xingsheng</div><div class=\"dictlist\">mlrun/client_version=1.4.1</div><div class=\"dictlist\">mlrun/client_python_version=3.9.16</div><div class=\"dictlist\">host=scores-handler-4njfk</div></td>\n",
       "      <td></td>\n",
       "      <td></td>\n",
       "      <td></td>\n",
       "      <td></td>\n",
       "    </tr>\n",
       "  </tbody>\n",
       "</table>\n",
       "</div></div>\n",
       "  <div id=\"result9847b640-pane\" class=\"right-pane block hidden\">\n",
       "    <div class=\"pane-header\">\n",
       "      <span id=\"result9847b640-title\" class=\"pane-header-title\">Title</span>\n",
       "      <span onclick=\"closePanel(this)\" paneName=\"result9847b640\" class=\"close clickable\">&times;</span>\n",
       "    </div>\n",
       "    <iframe class=\"fileview\" id=\"result9847b640-body\"></iframe>\n",
       "  </div>\n",
       "</div>\n"
      ],
      "text/plain": [
       "<IPython.core.display.HTML object>"
      ]
     },
     "metadata": {},
     "output_type": "display_data"
    },
    {
     "name": "stdout",
     "output_type": "stream",
     "text": [
      "\n"
     ]
    },
    {
     "data": {
      "text/html": [
       "<b> > to track results use the .show() or .logs() methods  or <a href=\"https://dashboard.default-tenant.app.cst-354.iguazio-cd2.com/mlprojects/function-image-docs/jobs/monitor/c2097767ce864d91b5bddd114f024046/overview\" target=\"_blank\">click here</a> to open in UI</b>"
      ],
      "text/plain": [
       "<IPython.core.display.HTML object>"
      ]
     },
     "metadata": {},
     "output_type": "display_data"
    },
    {
     "name": "stdout",
     "output_type": "stream",
     "text": [
      "> 2023-11-07 04:07:22,399 [info] Run execution finished: {'status': 'completed', 'name': 'scores-handler'}\n"
     ]
    },
    {
     "data": {
      "text/plain": [
       "<mlrun.model.RunObject at 0x7f2e20625730>"
      ]
     },
     "execution_count": 20,
     "metadata": {},
     "output_type": "execute_result"
    }
   ],
   "source": [
    "project.run_function(\"scores\")"
   ]
  },
  {
   "cell_type": "code",
   "execution_count": null,
   "id": "504f40c0-725f-45b1-9734-b67843ca564a",
   "metadata": {},
   "outputs": [],
   "source": []
  }
 ],
 "metadata": {
  "kernelspec": {
   "display_name": "mlrun-base",
   "language": "python",
   "name": "conda-env-mlrun-base-py"
  },
  "language_info": {
   "codemirror_mode": {
    "name": "ipython",
    "version": 3
   },
   "file_extension": ".py",
   "mimetype": "text/x-python",
   "name": "python",
   "nbconvert_exporter": "python",
   "pygments_lexer": "ipython3",
   "version": "3.9.16"
  }
 },
 "nbformat": 4,
 "nbformat_minor": 5
}
